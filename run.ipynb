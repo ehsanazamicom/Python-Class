{
 "cells": [
  {
   "cell_type": "markdown",
   "metadata": {},
   "source": [
    "<h2 style=\"text-align:center; font-family:a google;\">به نام خدا</h2>\n",
    "<h3 style=\"text-align:right; direction: rtl; font-family:a google;\">کلاس کاربرد هوش مصنوعی در مدیریت | دکتر خادمی</h3>\n",
    "<br><hr><br>\n",
    "<h2 style=\"text-align:right; direction: rtl; font-family:a google;\">مروری بر مطالب: </h2>\n",
    "<h2 style=\"text-align:right; direction: rtl; margin-right:60px; font-family:iran sans;\">1- کلیات کار با پایتون</h2>\n",
    "<h2 style=\"text-align:right; direction: rtl; margin-right:60px; font-family:iran sans;\">2- شبکه عصبی در پایتون</h2>\n",
    "<h2 style=\"text-align:right; direction: rtl; margin-right:60px; font-family:iran sans;\">3- الگوریتم ژنتیک</h2>\n",
    "<h2 style=\"text-align:right; direction: rtl; margin-right:60px; font-family:iran sans;\">4- یک نمونه الگوریتم PSO</h2>"
   ]
  },
  {
   "cell_type": "markdown",
   "metadata": {},
   "source": [
    "<br><br>\n",
    "<h1 style=\"text-align:center; color:darkred; font-family:a google;\">اول: کلیات کار با پایتون</h1>\n",
    "<hr>\n",
    "<br>"
   ]
  },
  {
   "cell_type": "markdown",
   "metadata": {},
   "source": [
    "<h2 style=\"text-align:right; direction: rtl; font-family:a google;\">ویژگی های زبان پایتون</h2>\n",
    "<h2 style=\"text-align:right; direction: rtl; font-family:iran sans; margin-right:60px;\">1- زبان تفسیری</h2>\n",
    "<h2 style=\"text-align:right; direction: rtl; font-family:iran sans; margin-right:60px;\">2- نوشتار آسان</h2>\n",
    "<h2 style=\"text-align:right; direction: rtl; font-family:iran sans; margin-right:60px;\">3- خوانایی بالا</h2>\n",
    "<h2 style=\"text-align:right; direction: rtl; font-family:iran sans; margin-right:60px;\">4- زبان شیء گرا</h2>\n",
    "<h2 style=\"text-align:right; direction: rtl; font-family:iran sans; margin-right:60px;\">5- کاربردی ترین ابزارهای هوش مصنوعی</h2>"
   ]
  },
  {
   "cell_type": "markdown",
   "metadata": {},
   "source": [
    "<br><hr><br>\n",
    "<h2 style=\"text-align:right; direction: rtl; font-family:a google;\">شیوه نصب پایتون بر روی ویندوز - python.org</h2>\n",
    "<br>\n",
    "<img src=\"img/python.jpg\">"
   ]
  },
  {
   "cell_type": "markdown",
   "metadata": {},
   "source": [
    "<br><hr><br>\n",
    "<h2 style=\"text-align:right; direction: rtl; font-family:a google;\">پروژه ژوپیتر نوت بوک ابزار قدرتمند برنامه نویسی پایتون</h2>\n",
    "<h2 style=\"text-align:right; direction: rtl; font-family:a google;\">هدف: آنالیز داده به صورت تعاملی و محاسبات قدرتمند به همراه امکانات لازم برای ارائه کنفرناس.</h2>\n",
    "<br><br>\n",
    "<img src=\"img/jupiter.jpg\">\n",
    "<br><hr><br>\n",
    "<img src=\"img/jupiter-comment.jpg\">"
   ]
  },
  {
   "cell_type": "markdown",
   "metadata": {},
   "source": [
    "<br><hr><br>\n",
    "<h2 style=\"text-align:right; direction: rtl; font-family:a google;\">شیوه نصب ژوپیتر نوت بوک در ویندوز - anaconda.com</h2>\n",
    "<br>\n",
    "<img src=\"img/anaconda.jpg\">\n",
    "<br><hr><br>\n",
    "<img src=\"img/anaconda-app.jpg\">"
   ]
  },
  {
   "cell_type": "markdown",
   "metadata": {},
   "source": [
    "<br><hr><br>\n",
    "<h2 style=\"text-align:right; direction: rtl; font-family:a google;\">فراگیری سریع پایتون در W3SCHOOLS.COM/PYTHON</h2>\n",
    "<br>\n",
    "<img src=\"img/w3schools.jpg\">"
   ]
  },
  {
   "cell_type": "markdown",
   "metadata": {},
   "source": [
    "<br><br>\n",
    "<h1 style=\"text-align:center; color:darkred; font-family:a google;\">دوم: شبکه عصبی در پایتون</h1>\n",
    "<hr>\n",
    "<br><br>\n",
    "<h2 style=\"text-align:right; direction: rtl; font-family:a google;\">فلسفه شبکه عصبی و سایر مدل‌های هوش مصنوعی</h2>\n",
    "<img src=\"img/nn-concept.jpg\">"
   ]
  },
  {
   "cell_type": "markdown",
   "metadata": {},
   "source": [
    "<br><hr><br>\n",
    "<h2 style=\"text-align:right; direction: rtl; font-family:a google;\">پیاده سازی گیت اند با شبکه پرسپترون</h2>\n",
    "<br>\n",
    "<img src=\"img/and-gate.jpg\">\n",
    "<br><hr><br>\n",
    "<h2 style=\"text-align:right; direction: rtl; font-family:a google;\">معادله خط</h2>\n",
    "<h2 style=\"text-align:left; direction: left; font-family:calibri;\">y-y1=m(x-x1)   =>   y+x-1.5=0</h2>\n",
    "<br>\n",
    "<img src=\"img/and-perceptron.jpg\" width=\"400\">"
   ]
  },
  {
   "cell_type": "code",
   "execution_count": 31,
   "metadata": {},
   "outputs": [
    {
     "name": "stdout",
     "output_type": "stream",
     "text": [
      "Accuracy = 1.0\n"
     ]
    }
   ],
   "source": [
    "from sklearn.linear_model import Perceptron\n",
    "import matplotlib.pyplot as plt\n",
    "import numpy as np\n",
    "from itertools import product\n",
    "\n",
    "\n",
    "\n",
    "data = [[0, 0], [0, 1], [1, 0], [1, 1]]\n",
    "labels = [0, 0, 0, 1]\n",
    "\n",
    "\n",
    "\n",
    "\n",
    "classifier = Perceptron(max_iter = 40)\n",
    "classifier.fit(data, labels)\n",
    "print(\"Accuracy = \"+str(classifier.score(data, labels)))"
   ]
  },
  {
   "cell_type": "markdown",
   "metadata": {},
   "source": [
    "<br><hr><br>\n",
    "<h2 style=\"text-align:right; direction: rtl; font-family:a google;\">نمونه ساخت شبکه عصبی به صورت دستی</h2>\n",
    "<br>\n",
    "<img src=\"img/cnn.jpeg\">\n",
    "<br>\n",
    "<img src=\"img/sample-model.jpg\" width=\"800\">"
   ]
  },
  {
   "cell_type": "markdown",
   "metadata": {},
   "source": [
    "<br><br>\n",
    "<h1 style=\"text-align:center; color:darkred; font-family:a google;\">سوم: الگوریتم ژنتیک در پایتون</h1>\n",
    "<hr>\n",
    "<br><br>\n",
    "<h2 style=\"text-align:right; direction: rtl; font-family:a google;\">استفاده از کتابخانه ژنتیک الگوریتم</h2>\n",
    "<br>\n",
    "<img src=\"img/ga.jpg\">\n",
    "<br>"
   ]
  },
  {
   "cell_type": "markdown",
   "metadata": {},
   "source": [
    "<br><hr><br>\n",
    "<h2 style=\"text-align:right; direction: rtl; font-family:a google;\">یک مثال ساده بهینه سازی</h2>\n",
    "<h3 style=\"text-align:right; direction: rtl; font-family:iran sans;\">فرض کنید می خواهیم مجموعه ای از X=(x1,x2,x3) را پیدا کنیم که تابع f(X)=x1+x2+x3 را کمینه می‌کند و در آن X می تواند هر عدد طبیعی در بازه [0,10] باشد.</h3>\n",
    "<h3 style=\"text-align:right; direction: rtl; font-family:iran sans;\">به راحتی می توان دریافت که پاسخ آن X=(0,0,0) است.</h3>\n",
    "<br>"
   ]
  },
  {
   "cell_type": "code",
   "execution_count": 35,
   "metadata": {},
   "outputs": [
    {
     "name": "stdout",
     "output_type": "stream",
     "text": [
      " The best solution found:                                                                           \n",
      " [0.00147485 0.00021725 0.00060048]\n",
      "\n",
      " Objective function:\n",
      " 0.0022925769423254305\n"
     ]
    },
    {
     "data": {
      "image/png": "[encoded data removed]",
      "text/plain": [
       "<Figure size 432x288 with 1 Axes>"
      ]
     },
     "metadata": {
      "needs_background": "light"
     },
     "output_type": "display_data"
    }
   ],
   "source": [
    "import numpy as np\n",
    "from geneticalgorithm import geneticalgorithm as ga\n",
    "\n",
    "def f(X):\n",
    "    return np.sum(X)\n",
    "\n",
    "\n",
    "varbound=np.array([[0,10]]*3)\n",
    "\n",
    "algorithm_param = {'max_num_iteration': 3000,\\\n",
    "                   'population_size':100,\\\n",
    "                   'mutation_probability':0.1,\\\n",
    "                   'elit_ratio': 0.01,\\\n",
    "                   'crossover_probability': 0.5,\\\n",
    "                   'parents_portion': 0.3,\\\n",
    "                   'crossover_type':'uniform',\\\n",
    "                   'max_iteration_without_improv':None}\n",
    "\n",
    "model=ga(function=f,\\\n",
    "            dimension=3,\\\n",
    "            variable_type='real',\\\n",
    "            variable_boundaries=varbound,\\\n",
    "            algorithm_parameters=algorithm_param)\n",
    "\n",
    "model.run()"
   ]
  },
  {
   "cell_type": "markdown",
   "metadata": {},
   "source": [
    "<br><br>\n",
    "<h1 style=\"text-align:center; color:darkred; font-family:a google;direction:rtl;\">چهارم: یک نمونه الگوریتم PSO</h1>\n",
    "<hr>\n",
    "<br><br>\n",
    "<h2 style=\"text-align:right; direction: rtl; font-family:a google;\">استفاده از کتابخانه pyswarm برای مسئله PSO</h2>\n",
    "<br>"
   ]
  },
  {
   "cell_type": "code",
   "execution_count": 42,
   "metadata": {},
   "outputs": [
    {
     "name": "stdout",
     "output_type": "stream",
     "text": [
      "Stopping search: Swarm best objective change less than 1e-08\n"
     ]
    }
   ],
   "source": [
    "import numpy as np\n",
    "from pyswarm import pso\n",
    "\n",
    "# Define the objective (to be minimize)\n",
    "def weight(x, *args):\n",
    "    H, d, t = x\n",
    "    B, rho, E, P = args\n",
    "    return rho*2*np.pi*d*t*np.sqrt((B/2)**2 + H**2)\n",
    "\n",
    "# Setup the constraint functions\n",
    "def yield_stress(x, *args):\n",
    "    H, d, t = x\n",
    "    B, rho, E, P = args\n",
    "    return (P*np.sqrt((B/2)**2 + H**2))/(2*t*np.pi*d*H)\n",
    "\n",
    "def buckling_stress(x, *args):\n",
    "    H, d, t = x\n",
    "    B, rho, E, P = args\n",
    "    return (np.pi**2*E*(d**2 + t**2))/(8*((B/2)**2 + H**2))\n",
    "\n",
    "def deflection(x, *args):\n",
    "    H, d, t = x\n",
    "    B, rho, E, P = args\n",
    "    return (P*np.sqrt((B/2)**2 + H**2)**3)/(2*t*np.pi*d*H**2*E)\n",
    "\n",
    "def constraints(x, *args):\n",
    "    strs = yield_stress(x, *args)\n",
    "    buck = buckling_stress(x, *args)\n",
    "    defl = deflection(x, *args)\n",
    "    return [100 - strs, buck - strs, 0.25 - defl]\n",
    "\n",
    "# Define the other parameters\n",
    "B = 60  # inches\n",
    "rho = 0.3  # lb/in^3\n",
    "E = 30000  # kpsi (1000-psi)\n",
    "P = 66  # kip (1000-lbs, force)\n",
    "args = (B, rho, E, P)\n",
    "\n",
    "# Define the lower and upper bounds for H, d, t, respectively\n",
    "lb = [10, 1, 0.01]\n",
    "ub = [30, 3, 0.25]\n",
    "\n",
    "xopt, fopt = pso(weight, lb, ub, f_ieqcons=constraints, args=args)\n",
    "\n",
    "# The optimal input values are approximately\n",
    "#     xopt = [29, 2.4, 0.06]\n",
    "# with function values approximately\n",
    "#     weight          = 12 lbs\n",
    "#     yield stress    = 100 kpsi (binding constraint)\n",
    "#     buckling stress = 150 kpsi\n",
    "#     deflection      = 0.2 in"
   ]
  }
 ],
 "metadata": {
  "kernelspec": {
   "display_name": "Python 3",
   "language": "python",
   "name": "python3"
  },
  "language_info": {
   "codemirror_mode": {
    "name": "ipython",
    "version": 3
   },
   "file_extension": ".py",
   "mimetype": "text/x-python",
   "name": "python",
   "nbconvert_exporter": "python",
   "pygments_lexer": "ipython3",
   "version": "3.8.5"
  }
 },
 "nbformat": 4,
 "nbformat_minor": 4
}
